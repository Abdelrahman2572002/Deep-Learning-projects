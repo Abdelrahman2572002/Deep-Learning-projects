{
 "cells": [
  {
   "cell_type": "code",
   "execution_count": 1,
   "id": "1935e9cb",
   "metadata": {},
   "outputs": [
    {
     "name": "stderr",
     "output_type": "stream",
     "text": [
      "C:\\ProgramData\\Anaconda3\\lib\\site-packages\\scipy\\__init__.py:146: UserWarning: A NumPy version >=1.16.5 and <1.23.0 is required for this version of SciPy (detected version 1.24.3\n",
      "  warnings.warn(f\"A NumPy version >={np_minversion} and <{np_maxversion}\"\n"
     ]
    }
   ],
   "source": [
    "import numpy as np\n",
    "import tensorflow as tf\n",
    "from tensorflow.keras import layers, models\n",
    "from sklearn.model_selection import train_test_split\n",
    "from tensorflow.keras.losses import categorical_crossentropy\n",
    "from tensorflow.keras.layers import concatenate, MaxPooling2D,Input\n",
    "from tensorflow.keras.layers import Dense, Flatten, Conv2D, GlobalAveragePooling2D\n",
    "from tensorflow.keras.utils import to_categorical"
   ]
  },
  {
   "cell_type": "markdown",
   "id": "cdb188e4",
   "metadata": {},
   "source": [
    "## Load Data"
   ]
  },
  {
   "cell_type": "code",
   "execution_count": 2,
   "id": "e819cc4d",
   "metadata": {},
   "outputs": [],
   "source": [
    "(x_train, y_train), (x_test, y_test) = tf.keras.datasets.cifar10.load_data()"
   ]
  },
  {
   "cell_type": "markdown",
   "id": "513e65ae",
   "metadata": {},
   "source": [
    "## Data Preprocessing"
   ]
  },
  {
   "cell_type": "code",
   "execution_count": 3,
   "id": "fa6cc614",
   "metadata": {},
   "outputs": [],
   "source": [
    "x_train = x_train / 255.0\n",
    "x_test = x_test / 255.0"
   ]
  },
  {
   "cell_type": "code",
   "execution_count": 4,
   "id": "5e407ecd",
   "metadata": {},
   "outputs": [],
   "source": [
    "y_train = to_categorical(y_train, 10)\n",
    "y_test = to_categorical(y_test, 10)"
   ]
  },
  {
   "cell_type": "markdown",
   "id": "e347723f",
   "metadata": {},
   "source": [
    "## Model"
   ]
  },
  {
   "cell_type": "code",
   "execution_count": 7,
   "id": "b8089937",
   "metadata": {},
   "outputs": [],
   "source": [
    "def inception_module(input_data, filters):\n",
    "    \n",
    "    # 1x1 Convolution\n",
    "    conv1x1_1 = Conv2D(filters[0], (1, 1), padding='same', activation='relu')(input_data)\n",
    "\n",
    "    # 1x1 Convolution followed by 3x3 Convolution\n",
    "    conv1x1_2 = Conv2D(filters[1], (1, 1), padding='same', activation='relu')(input_data)\n",
    "    conv3x3 = Conv2D(filters[2], (3, 3), padding='same', activation='relu')(conv1x1_2)\n",
    "\n",
    "    # 1x1 Convolution followed by 5x5 Convolution\n",
    "    conv1x1_3 = Conv2D(filters[3], (1, 1), padding='same', activation='relu')(input_data)\n",
    "    conv5x5 = Conv2D(filters[4], (5, 5), padding='same', activation='relu')(conv1x1_3)\n",
    "\n",
    "    # 3x3 MaxPooling followed by 1x1 Convolution\n",
    "    maxpool = MaxPooling2D((3, 3), strides=(1, 1), padding='same')(input_data)\n",
    "    conv1x1_4 = Conv2D(filters[5], (1, 1), padding='same', activation='relu')(maxpool)\n",
    "\n",
    "    # Concatenate all branches\n",
    "    inception = concatenate([conv1x1_1, conv3x3, conv5x5, conv1x1_4], axis=-1)\n",
    "    return inception"
   ]
  },
  {
   "cell_type": "code",
   "execution_count": 8,
   "id": "d6eab740",
   "metadata": {},
   "outputs": [],
   "source": [
    "# Building the model\n",
    "\n",
    "input_layer = Input(shape=(32, 32, 3))\n",
    "\n",
    "# Inception Module\n",
    "x = inception_module(input_layer, [64, 128, 128, 32, 32, 32])\n",
    "\n",
    "# Global Average Pooling\n",
    "x = GlobalAveragePooling2D()(x)\n",
    "\n",
    "# Output layer\n",
    "output_layer = Dense(10, activation='softmax')(x)\n",
    "\n",
    "# Create the model\n",
    "model = models.Model(inputs=input_layer, outputs=output_layer)"
   ]
  },
  {
   "cell_type": "code",
   "execution_count": 9,
   "id": "3fa7a49d",
   "metadata": {},
   "outputs": [
    {
     "name": "stdout",
     "output_type": "stream",
     "text": [
      "Model: \"model\"\n",
      "__________________________________________________________________________________________________\n",
      " Layer (type)                   Output Shape         Param #     Connected to                     \n",
      "==================================================================================================\n",
      " input_1 (InputLayer)           [(None, 32, 32, 3)]  0           []                               \n",
      "                                                                                                  \n",
      " conv2d_1 (Conv2D)              (None, 32, 32, 128)  512         ['input_1[0][0]']                \n",
      "                                                                                                  \n",
      " conv2d_3 (Conv2D)              (None, 32, 32, 32)   128         ['input_1[0][0]']                \n",
      "                                                                                                  \n",
      " max_pooling2d (MaxPooling2D)   (None, 32, 32, 3)    0           ['input_1[0][0]']                \n",
      "                                                                                                  \n",
      " conv2d (Conv2D)                (None, 32, 32, 64)   256         ['input_1[0][0]']                \n",
      "                                                                                                  \n",
      " conv2d_2 (Conv2D)              (None, 32, 32, 128)  147584      ['conv2d_1[0][0]']               \n",
      "                                                                                                  \n",
      " conv2d_4 (Conv2D)              (None, 32, 32, 32)   25632       ['conv2d_3[0][0]']               \n",
      "                                                                                                  \n",
      " conv2d_5 (Conv2D)              (None, 32, 32, 32)   128         ['max_pooling2d[0][0]']          \n",
      "                                                                                                  \n",
      " concatenate (Concatenate)      (None, 32, 32, 256)  0           ['conv2d[0][0]',                 \n",
      "                                                                  'conv2d_2[0][0]',               \n",
      "                                                                  'conv2d_4[0][0]',               \n",
      "                                                                  'conv2d_5[0][0]']               \n",
      "                                                                                                  \n",
      " global_average_pooling2d (Glob  (None, 256)         0           ['concatenate[0][0]']            \n",
      " alAveragePooling2D)                                                                              \n",
      "                                                                                                  \n",
      " dense (Dense)                  (None, 10)           2570        ['global_average_pooling2d[0][0]'\n",
      "                                                                 ]                                \n",
      "                                                                                                  \n",
      "==================================================================================================\n",
      "Total params: 176,810\n",
      "Trainable params: 176,810\n",
      "Non-trainable params: 0\n",
      "__________________________________________________________________________________________________\n"
     ]
    }
   ],
   "source": [
    "model.summary()"
   ]
  },
  {
   "cell_type": "code",
   "execution_count": 10,
   "id": "0fccb585",
   "metadata": {},
   "outputs": [
    {
     "name": "stdout",
     "output_type": "stream",
     "text": [
      "Epoch 1/10\n",
      "1563/1563 [==============================] - 508s 324ms/step - loss: 2.0194 - accuracy: 0.2440\n",
      "Epoch 2/10\n",
      "1563/1563 [==============================] - 526s 336ms/step - loss: 1.8815 - accuracy: 0.3066\n",
      "Epoch 3/10\n",
      "1563/1563 [==============================] - 544s 348ms/step - loss: 1.7570 - accuracy: 0.3544\n",
      "Epoch 4/10\n",
      "1563/1563 [==============================] - 562s 359ms/step - loss: 1.6730 - accuracy: 0.3847\n",
      "Epoch 5/10\n",
      "1563/1563 [==============================] - 491s 314ms/step - loss: 1.6280 - accuracy: 0.4067\n",
      "Epoch 6/10\n",
      "1563/1563 [==============================] - 492s 315ms/step - loss: 1.5952 - accuracy: 0.4208\n",
      "Epoch 7/10\n",
      "1563/1563 [==============================] - 488s 312ms/step - loss: 1.5658 - accuracy: 0.4334\n",
      "Epoch 8/10\n",
      "1563/1563 [==============================] - 487s 312ms/step - loss: 1.5350 - accuracy: 0.4459\n",
      "Epoch 9/10\n",
      "1563/1563 [==============================] - 488s 312ms/step - loss: 1.5061 - accuracy: 0.4579\n",
      "Epoch 10/10\n",
      "1563/1563 [==============================] - 492s 315ms/step - loss: 1.4725 - accuracy: 0.4693\n"
     ]
    },
    {
     "data": {
      "text/plain": [
       "<keras.callbacks.History at 0x2141cf44220>"
      ]
     },
     "execution_count": 10,
     "metadata": {},
     "output_type": "execute_result"
    }
   ],
   "source": [
    "model.compile(optimizer='adam', loss='categorical_crossentropy', metrics=['accuracy'])\n",
    "model.fit(x_train, y_train, epochs=10)"
   ]
  },
  {
   "cell_type": "markdown",
   "id": "58da348a",
   "metadata": {},
   "source": [
    "## Confusion Matrix"
   ]
  },
  {
   "cell_type": "code",
   "execution_count": 11,
   "id": "537265db",
   "metadata": {},
   "outputs": [
    {
     "name": "stdout",
     "output_type": "stream",
     "text": [
      "313/313 [==============================] - 34s 107ms/step\n"
     ]
    }
   ],
   "source": [
    "from sklearn.metrics import confusion_matrix\n",
    "confusion = confusion_matrix(np.argmax(y_test,axis=1),np.argmax(model.predict(x_test),axis=1),labels=list(np.arange(0,10)))"
   ]
  },
  {
   "cell_type": "code",
   "execution_count": 12,
   "id": "f12aef45",
   "metadata": {},
   "outputs": [
    {
     "data": {
      "text/plain": [
       "Text(0.5, 51.0, 'Predicted label')"
      ]
     },
     "execution_count": 12,
     "metadata": {},
     "output_type": "execute_result"
    },
    {
     "data": {
      "image/png": "[encoded data removed]",
      "text/plain": [
       "<Figure size 720x576 with 2 Axes>"
      ]
     },
     "metadata": {
      "needs_background": "light"
     },
     "output_type": "display_data"
    }
   ],
   "source": [
    "import seaborn as sns\n",
    "import matplotlib.pyplot as plt\n",
    "fig, ax = plt.subplots(figsize=(10,8)) \n",
    "sns.heatmap(confusion, annot=True,ax=ax,fmt=\"d\",linewidths=.5,cmap=sns.color_palette(\"Blues\"));\n",
    "plt.ylim([ 10,-0.5,]);\n",
    "plt.ylabel('True label')\n",
    "plt.xlabel('Predicted label')"
   ]
  },
  {
   "cell_type": "markdown",
   "id": "0289285d",
   "metadata": {},
   "source": [
    "## Precision, Recall, F1-score"
   ]
  },
  {
   "cell_type": "code",
   "execution_count": 13,
   "id": "c2e246be",
   "metadata": {},
   "outputs": [
    {
     "name": "stdout",
     "output_type": "stream",
     "text": [
      "313/313 [==============================] - 33s 105ms/step\n",
      "              precision    recall  f1-score   support\n",
      "\n",
      "     Class 0       0.50      0.47      0.49      1000\n",
      "     Class 1       0.54      0.70      0.61      1000\n",
      "     Class 2       0.40      0.15      0.22      1000\n",
      "     Class 3       0.41      0.08      0.13      1000\n",
      "     Class 4       0.38      0.52      0.44      1000\n",
      "     Class 5       0.42      0.49      0.45      1000\n",
      "     Class 6       0.46      0.65      0.53      1000\n",
      "     Class 7       0.46      0.57      0.51      1000\n",
      "     Class 8       0.57      0.63      0.60      1000\n",
      "     Class 9       0.55      0.49      0.52      1000\n",
      "\n",
      "    accuracy                           0.48     10000\n",
      "   macro avg       0.47      0.48      0.45     10000\n",
      "weighted avg       0.47      0.48      0.45     10000\n",
      "\n"
     ]
    }
   ],
   "source": [
    "from sklearn.metrics import classification_report\n",
    "target_names = [\"Class 0\", \"Class 1\", \"Class 2\", \"Class 3\", \"Class 4\", \"Class 5\", \"Class 6\", \"Class 7\", \"Class 8\", \"Class 9\"]\n",
    "print(classification_report(np.argmax(y_test,axis=1),np.argmax(model.predict(x_test),axis=1), target_names=target_names))"
   ]
  }
 ],
 "metadata": {
  "kernelspec": {
   "display_name": "Python 3 (ipykernel)",
   "language": "python",
   "name": "python3"
  },
  "language_info": {
   "codemirror_mode": {
    "name": "ipython",
    "version": 3
   },
   "file_extension": ".py",
   "mimetype": "text/x-python",
   "name": "python",
   "nbconvert_exporter": "python",
   "pygments_lexer": "ipython3",
   "version": "3.9.12"
  }
 },
 "nbformat": 4,
 "nbformat_minor": 5
}
